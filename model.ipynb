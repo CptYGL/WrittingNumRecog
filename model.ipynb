{
 "cells": [
  {
   "cell_type": "markdown",
   "metadata": {},
   "source": [
    "# **基于MNIST数据集的嵌入式图像识别开发**\n",
    "> @杨冠林\n",
    "\n",
    "- 目标: 根据MNIST训练手写数字识别模型并部署\n",
    "- 方式: 逻辑回归,Kmeans,KNN,决策树(暂不考虑)\n",
    "- 数据来源: [纽约大学rowei数据库(中的mnist图片)](https://cs.nyu.edu/~roweis/data/)\n",
    "- 引用: [MNIST手写数字数据库](https://blog.csdn.net/aizhao3648/article/details/101129791)\n",
    "- 其他:\n",
    "  1. 原始数据在`\\original`文件夹下,处理后的均放置在`\\post`\n",
    "  2. VSCode扩展推荐:`hediet.vscode-drawio`,`mushan.vscode-paste-image`\n",
    "     - `draw.io`的使用: 新建 `XXX.dio`扩展名文档,可画流程图,`E-R`图等\n",
    "     - `PasteImage`的使用:\n",
    "\n",
    "         ![](pics/2022-12-29-11-05-55.png)\n",
    "\n",
    "         - 通过任意方式截图\n",
    "         - 使用`Ctrl+Alt+V`,即可将剪贴板中的见截图保存到  `项目主文件夹/pics` 路径"
   ]
  },
  {
   "cell_type": "markdown",
   "metadata": {},
   "source": [
    "----\n",
    "### **检视&预处理**"
   ]
  },
  {
   "cell_type": "markdown",
   "metadata": {},
   "source": [
    "选取源数据一张图片可知:\n",
    "\n",
    "![mnist_train1.jpg](pics/2023-01-31-13-33-20.png)\n",
    "\n",
    "- 单个手写图片为`28 × 28`,图片宽高比不一致,则实际图片数量不一致;\n",
    "- 成图时有多余的块,单字分割后应根据颜色舍弃"
   ]
  },
  {
   "cell_type": "code",
   "execution_count": 2,
   "metadata": {},
   "outputs": [],
   "source": [
    "from sklearn.linear_model import  LogisticRegression\n",
    "from sklearn.neighbors import KNeighborsClassifier\n",
    "import sklearn.model_selection as sk_ms\n",
    "import sklearn.metrics as sk_met\n",
    "import sklearn.preprocessing as sk_pre\n",
    "from sklearn.utils import shuffle\n",
    "\n",
    "import torch\n",
    "import torch.nn as nn\n",
    "import torch.nn.functional as F\n",
    "import torch.optim as optim\n",
    "import torch.utils.data as data\n",
    "\n",
    "from pyecharts.charts import Line,Bar,Scatter,Pie,MapGlobe\n",
    "import pyecharts.options as opts\n",
    "import seaborn as sns\n",
    "\n",
    "import numpy as np\n",
    "import pandas as pd\n",
    "import matplotlib.pyplot as plt\n",
    "import cv2,pickle,netron"
   ]
  },
  {
   "cell_type": "markdown",
   "metadata": {},
   "source": [
    "- 测试图片分割"
   ]
  },
  {
   "cell_type": "code",
   "execution_count": 3,
   "metadata": {},
   "outputs": [
    {
     "data": {
      "text/plain": [
       "(2324, 2296)"
      ]
     },
     "execution_count": 3,
     "metadata": {},
     "output_type": "execute_result"
    }
   ],
   "source": [
    "i = cv2.imread('./original/train/mnist_train1.jpg',-1)\n",
    "u,i = cv2.threshold(i,128,255,cv2.THRESH_BINARY)\n",
    "i.shape"
   ]
  },
  {
   "cell_type": "code",
   "execution_count": 4,
   "metadata": {},
   "outputs": [
    {
     "data": {
      "text/plain": [
       "<matplotlib.image.AxesImage at 0x1c339f0b6d0>"
      ]
     },
     "execution_count": 4,
     "metadata": {},
     "output_type": "execute_result"
    },
    {
     "data": {
      "image/png": "[encoded data removed]",
      "text/plain": [
       "<Figure size 640x480 with 1 Axes>"
      ]
     },
     "metadata": {},
     "output_type": "display_data"
    }
   ],
   "source": [
    "a = np.array([np.hsplit(line,i.shape[1]/28) for line in np.vsplit(i,i.shape[0]/28)])\n",
    "plt.imshow(a[0][2])"
   ]
  },
  {
   "cell_type": "markdown",
   "metadata": {},
   "source": [
    "可知,由于每个小图都是28*28,则`hsplit`针对每行,`vsplit`针对每列.\n",
    "测试`a[0][2]`(即第一行第三个),发现一致,可尽数如此分割\n",
    "\n",
    "![测试图像a](pics/2023-01-31-14-34-26.png)\n",
    "\n",
    "分割之后,重组为`any*28*28`的数组"
   ]
  },
  {
   "cell_type": "code",
   "execution_count": 4,
   "metadata": {},
   "outputs": [
    {
     "data": {
      "text/plain": [
       "(6806, 28, 28)"
      ]
     },
     "execution_count": 4,
     "metadata": {},
     "output_type": "execute_result"
    }
   ],
   "source": [
    "b = a.reshape((-1,28,28))\n",
    "b.shape"
   ]
  },
  {
   "cell_type": "code",
   "execution_count": 5,
   "metadata": {},
   "outputs": [
    {
     "data": {
      "text/plain": [
       "<matplotlib.image.AxesImage at 0x1ad6d0d14f0>"
      ]
     },
     "execution_count": 5,
     "metadata": {},
     "output_type": "execute_result"
    },
    {
     "data": {
      "image/png": "[encoded data removed]",
      "text/plain": [
       "<Figure size 640x480 with 1 Axes>"
      ]
     },
     "metadata": {},
     "output_type": "display_data"
    }
   ],
   "source": [
    "plt.imshow(b[2])"
   ]
  },
  {
   "cell_type": "markdown",
   "metadata": {},
   "source": [
    "- 正式规整:"
   ]
  },
  {
   "cell_type": "code",
   "execution_count": 5,
   "metadata": {},
   "outputs": [],
   "source": [
    "def split_cells(keyword='',num=0):\n",
    "    img = cv2.imread(f'./original/{keyword}/mnist_{keyword}{str(num)}.jpg',-1)\n",
    "    u,img = cv2.threshold(img,128,255,cv2.THRESH_BINARY)\n",
    "    units = np.array([np.hsplit(line,img.shape[1]/28) for line in np.vsplit(img,img.shape[0]/28)])\n",
    "    units = units.reshape((-1,28,28))\n",
    "    resized = np.array([cv2.resize(item,(14,14)) for item in units])\n",
    "    return resized"
   ]
  },
  {
   "cell_type": "code",
   "execution_count": 6,
   "metadata": {},
   "outputs": [],
   "source": [
    "train_cells = [split_cells('train',i) for i in range(10)]\n",
    "test_cells = [split_cells('test',i) for i in range(10)]"
   ]
  },
  {
   "cell_type": "code",
   "execution_count": 7,
   "metadata": {},
   "outputs": [],
   "source": [
    "for label in range(10):\n",
    "    train_cells[label] = train_cells[label].reshape((train_cells[label].shape[0],-1))\n",
    "    test_cells[label] = test_cells[label].reshape((test_cells[label].shape[0],-1))"
   ]
  },
  {
   "cell_type": "code",
   "execution_count": 8,
   "metadata": {},
   "outputs": [],
   "source": [
    "for label in range(10):\n",
    "    train_cells[label] = np.hstack((train_cells[label],np.full((train_cells[label].shape[0],1),label)))\n",
    "    test_cells[label] = np.hstack((test_cells[label],np.full((test_cells[label].shape[0],1),label)))"
   ]
  },
  {
   "cell_type": "code",
   "execution_count": 9,
   "metadata": {},
   "outputs": [],
   "source": [
    "train = np.full((1,train_cells[0].shape[1]),111)\n",
    "test = np.full((1,test_cells[0].shape[1]),111)\n",
    "for i in range(10):\n",
    "    train = np.vstack((train,train_cells[i]))\n",
    "    test = np.vstack((test,test_cells[i]))"
   ]
  },
  {
   "cell_type": "code",
   "execution_count": 10,
   "metadata": {},
   "outputs": [
    {
     "name": "stdout",
     "output_type": "stream",
     "text": [
      "(60339, 197) (10154, 197)\n"
     ]
    }
   ],
   "source": [
    "print(train.shape,test.shape)"
   ]
  },
  {
   "cell_type": "markdown",
   "metadata": {},
   "source": [
    "处理完全黑色的无用图片:"
   ]
  },
  {
   "cell_type": "code",
   "execution_count": 11,
   "metadata": {},
   "outputs": [
    {
     "name": "stdout",
     "output_type": "stream",
     "text": [
      "339 154\n"
     ]
    }
   ],
   "source": [
    "useless_train = [0]\n",
    "useless_test = [0]\n",
    "for i in range(len(train)):\n",
    "    if np.mean(train[i][:-1])==0:useless_train.append(i)\n",
    "for i in range(len(test)):\n",
    "    if np.mean(test[i][:-1])==0:useless_test.append(i)\n",
    "print(len(useless_train),len(useless_test))"
   ]
  },
  {
   "cell_type": "markdown",
   "metadata": {},
   "source": [
    "归一化,存表:"
   ]
  },
  {
   "cell_type": "code",
   "execution_count": 13,
   "metadata": {},
   "outputs": [],
   "source": [
    "aa = pd.DataFrame(train)\n",
    "bb = pd.DataFrame(test)\n",
    "aa = aa.rename(columns={196:'y'}).drop(useless_train)\n",
    "bb = bb.rename(columns={196:'y'}).drop(useless_test)"
   ]
  },
  {
   "cell_type": "code",
   "execution_count": 14,
   "metadata": {},
   "outputs": [],
   "source": [
    "\n",
    "aa.to_csv('./post/train.csv',index=False)\n",
    "bb.to_csv('./post/test.csv',index=False)"
   ]
  },
  {
   "cell_type": "markdown",
   "metadata": {},
   "source": [
    "----\n",
    "### **训练&可视化**"
   ]
  },
  {
   "cell_type": "markdown",
   "metadata": {},
   "source": [
    "- 使用`sklearn`的`逻辑回归(Logistic Regression)`处理多分类问题\n",
    "\n",
    "> [sklearn中的logisticregression如何处理多分类？](https://zhuanlan.zhihu.com/p/78068546#:~:text=sklearn%E4%B8%AD,%E7%B1%BB%E5%88%ABa%EF%BC%8Cb%EF%BC%8Cc%E3%80%82)"
   ]
  },
  {
   "cell_type": "code",
   "execution_count": 12,
   "metadata": {},
   "outputs": [
    {
     "data": {
      "text/html": [
       "<div>\n",
       "<style scoped>\n",
       "    .dataframe tbody tr th:only-of-type {\n",
       "        vertical-align: middle;\n",
       "    }\n",
       "\n",
       "    .dataframe tbody tr th {\n",
       "        vertical-align: top;\n",
       "    }\n",
       "\n",
       "    .dataframe thead th {\n",
       "        text-align: right;\n",
       "    }\n",
       "</style>\n",
       "<table border=\"1\" class=\"dataframe\">\n",
       "  <thead>\n",
       "    <tr style=\"text-align: right;\">\n",
       "      <th></th>\n",
       "      <th>0</th>\n",
       "      <th>1</th>\n",
       "      <th>2</th>\n",
       "      <th>3</th>\n",
       "      <th>4</th>\n",
       "      <th>5</th>\n",
       "      <th>6</th>\n",
       "      <th>7</th>\n",
       "      <th>8</th>\n",
       "      <th>9</th>\n",
       "      <th>...</th>\n",
       "      <th>187</th>\n",
       "      <th>188</th>\n",
       "      <th>189</th>\n",
       "      <th>190</th>\n",
       "      <th>191</th>\n",
       "      <th>192</th>\n",
       "      <th>193</th>\n",
       "      <th>194</th>\n",
       "      <th>195</th>\n",
       "      <th>y</th>\n",
       "    </tr>\n",
       "  </thead>\n",
       "  <tbody>\n",
       "    <tr>\n",
       "      <th>31160</th>\n",
       "      <td>0</td>\n",
       "      <td>0</td>\n",
       "      <td>0</td>\n",
       "      <td>0</td>\n",
       "      <td>0</td>\n",
       "      <td>0</td>\n",
       "      <td>0</td>\n",
       "      <td>0</td>\n",
       "      <td>0</td>\n",
       "      <td>0</td>\n",
       "      <td>...</td>\n",
       "      <td>0</td>\n",
       "      <td>0</td>\n",
       "      <td>0</td>\n",
       "      <td>0</td>\n",
       "      <td>0</td>\n",
       "      <td>0</td>\n",
       "      <td>0</td>\n",
       "      <td>0</td>\n",
       "      <td>0</td>\n",
       "      <td>5</td>\n",
       "    </tr>\n",
       "    <tr>\n",
       "      <th>40088</th>\n",
       "      <td>0</td>\n",
       "      <td>0</td>\n",
       "      <td>0</td>\n",
       "      <td>0</td>\n",
       "      <td>0</td>\n",
       "      <td>0</td>\n",
       "      <td>0</td>\n",
       "      <td>0</td>\n",
       "      <td>0</td>\n",
       "      <td>0</td>\n",
       "      <td>...</td>\n",
       "      <td>0</td>\n",
       "      <td>0</td>\n",
       "      <td>0</td>\n",
       "      <td>0</td>\n",
       "      <td>0</td>\n",
       "      <td>0</td>\n",
       "      <td>0</td>\n",
       "      <td>0</td>\n",
       "      <td>0</td>\n",
       "      <td>6</td>\n",
       "    </tr>\n",
       "    <tr>\n",
       "      <th>5025</th>\n",
       "      <td>0</td>\n",
       "      <td>0</td>\n",
       "      <td>0</td>\n",
       "      <td>0</td>\n",
       "      <td>0</td>\n",
       "      <td>0</td>\n",
       "      <td>0</td>\n",
       "      <td>0</td>\n",
       "      <td>0</td>\n",
       "      <td>0</td>\n",
       "      <td>...</td>\n",
       "      <td>0</td>\n",
       "      <td>0</td>\n",
       "      <td>0</td>\n",
       "      <td>0</td>\n",
       "      <td>0</td>\n",
       "      <td>0</td>\n",
       "      <td>0</td>\n",
       "      <td>0</td>\n",
       "      <td>0</td>\n",
       "      <td>0</td>\n",
       "    </tr>\n",
       "    <tr>\n",
       "      <th>13921</th>\n",
       "      <td>0</td>\n",
       "      <td>0</td>\n",
       "      <td>0</td>\n",
       "      <td>0</td>\n",
       "      <td>0</td>\n",
       "      <td>0</td>\n",
       "      <td>0</td>\n",
       "      <td>0</td>\n",
       "      <td>0</td>\n",
       "      <td>0</td>\n",
       "      <td>...</td>\n",
       "      <td>0</td>\n",
       "      <td>0</td>\n",
       "      <td>0</td>\n",
       "      <td>0</td>\n",
       "      <td>0</td>\n",
       "      <td>0</td>\n",
       "      <td>0</td>\n",
       "      <td>0</td>\n",
       "      <td>0</td>\n",
       "      <td>2</td>\n",
       "    </tr>\n",
       "    <tr>\n",
       "      <th>15877</th>\n",
       "      <td>0</td>\n",
       "      <td>0</td>\n",
       "      <td>0</td>\n",
       "      <td>0</td>\n",
       "      <td>0</td>\n",
       "      <td>0</td>\n",
       "      <td>0</td>\n",
       "      <td>0</td>\n",
       "      <td>0</td>\n",
       "      <td>0</td>\n",
       "      <td>...</td>\n",
       "      <td>0</td>\n",
       "      <td>0</td>\n",
       "      <td>0</td>\n",
       "      <td>0</td>\n",
       "      <td>0</td>\n",
       "      <td>0</td>\n",
       "      <td>0</td>\n",
       "      <td>0</td>\n",
       "      <td>0</td>\n",
       "      <td>2</td>\n",
       "    </tr>\n",
       "    <tr>\n",
       "      <th>...</th>\n",
       "      <td>...</td>\n",
       "      <td>...</td>\n",
       "      <td>...</td>\n",
       "      <td>...</td>\n",
       "      <td>...</td>\n",
       "      <td>...</td>\n",
       "      <td>...</td>\n",
       "      <td>...</td>\n",
       "      <td>...</td>\n",
       "      <td>...</td>\n",
       "      <td>...</td>\n",
       "      <td>...</td>\n",
       "      <td>...</td>\n",
       "      <td>...</td>\n",
       "      <td>...</td>\n",
       "      <td>...</td>\n",
       "      <td>...</td>\n",
       "      <td>...</td>\n",
       "      <td>...</td>\n",
       "      <td>...</td>\n",
       "      <td>...</td>\n",
       "    </tr>\n",
       "    <tr>\n",
       "      <th>8983</th>\n",
       "      <td>0</td>\n",
       "      <td>0</td>\n",
       "      <td>0</td>\n",
       "      <td>0</td>\n",
       "      <td>0</td>\n",
       "      <td>0</td>\n",
       "      <td>0</td>\n",
       "      <td>0</td>\n",
       "      <td>0</td>\n",
       "      <td>0</td>\n",
       "      <td>...</td>\n",
       "      <td>0</td>\n",
       "      <td>0</td>\n",
       "      <td>0</td>\n",
       "      <td>0</td>\n",
       "      <td>0</td>\n",
       "      <td>0</td>\n",
       "      <td>0</td>\n",
       "      <td>0</td>\n",
       "      <td>0</td>\n",
       "      <td>1</td>\n",
       "    </tr>\n",
       "    <tr>\n",
       "      <th>12118</th>\n",
       "      <td>0</td>\n",
       "      <td>0</td>\n",
       "      <td>0</td>\n",
       "      <td>0</td>\n",
       "      <td>0</td>\n",
       "      <td>0</td>\n",
       "      <td>0</td>\n",
       "      <td>0</td>\n",
       "      <td>0</td>\n",
       "      <td>0</td>\n",
       "      <td>...</td>\n",
       "      <td>0</td>\n",
       "      <td>0</td>\n",
       "      <td>0</td>\n",
       "      <td>0</td>\n",
       "      <td>0</td>\n",
       "      <td>0</td>\n",
       "      <td>0</td>\n",
       "      <td>0</td>\n",
       "      <td>0</td>\n",
       "      <td>1</td>\n",
       "    </tr>\n",
       "    <tr>\n",
       "      <th>8431</th>\n",
       "      <td>0</td>\n",
       "      <td>0</td>\n",
       "      <td>0</td>\n",
       "      <td>0</td>\n",
       "      <td>0</td>\n",
       "      <td>0</td>\n",
       "      <td>0</td>\n",
       "      <td>0</td>\n",
       "      <td>0</td>\n",
       "      <td>0</td>\n",
       "      <td>...</td>\n",
       "      <td>0</td>\n",
       "      <td>0</td>\n",
       "      <td>0</td>\n",
       "      <td>0</td>\n",
       "      <td>0</td>\n",
       "      <td>0</td>\n",
       "      <td>0</td>\n",
       "      <td>0</td>\n",
       "      <td>0</td>\n",
       "      <td>1</td>\n",
       "    </tr>\n",
       "    <tr>\n",
       "      <th>47328</th>\n",
       "      <td>0</td>\n",
       "      <td>0</td>\n",
       "      <td>0</td>\n",
       "      <td>0</td>\n",
       "      <td>0</td>\n",
       "      <td>0</td>\n",
       "      <td>0</td>\n",
       "      <td>0</td>\n",
       "      <td>0</td>\n",
       "      <td>0</td>\n",
       "      <td>...</td>\n",
       "      <td>0</td>\n",
       "      <td>128</td>\n",
       "      <td>0</td>\n",
       "      <td>0</td>\n",
       "      <td>0</td>\n",
       "      <td>0</td>\n",
       "      <td>0</td>\n",
       "      <td>0</td>\n",
       "      <td>0</td>\n",
       "      <td>7</td>\n",
       "    </tr>\n",
       "    <tr>\n",
       "      <th>20494</th>\n",
       "      <td>0</td>\n",
       "      <td>0</td>\n",
       "      <td>0</td>\n",
       "      <td>0</td>\n",
       "      <td>0</td>\n",
       "      <td>0</td>\n",
       "      <td>0</td>\n",
       "      <td>0</td>\n",
       "      <td>0</td>\n",
       "      <td>0</td>\n",
       "      <td>...</td>\n",
       "      <td>0</td>\n",
       "      <td>0</td>\n",
       "      <td>0</td>\n",
       "      <td>0</td>\n",
       "      <td>0</td>\n",
       "      <td>0</td>\n",
       "      <td>0</td>\n",
       "      <td>0</td>\n",
       "      <td>0</td>\n",
       "      <td>3</td>\n",
       "    </tr>\n",
       "  </tbody>\n",
       "</table>\n",
       "<p>60000 rows × 197 columns</p>\n",
       "</div>"
      ],
      "text/plain": [
       "       0  1  2  3  4  5  6  7  8  9  ...  187  188  189  190  191  192  193  \\\n",
       "31160  0  0  0  0  0  0  0  0  0  0  ...    0    0    0    0    0    0    0   \n",
       "40088  0  0  0  0  0  0  0  0  0  0  ...    0    0    0    0    0    0    0   \n",
       "5025   0  0  0  0  0  0  0  0  0  0  ...    0    0    0    0    0    0    0   \n",
       "13921  0  0  0  0  0  0  0  0  0  0  ...    0    0    0    0    0    0    0   \n",
       "15877  0  0  0  0  0  0  0  0  0  0  ...    0    0    0    0    0    0    0   \n",
       "...   .. .. .. .. .. .. .. .. .. ..  ...  ...  ...  ...  ...  ...  ...  ...   \n",
       "8983   0  0  0  0  0  0  0  0  0  0  ...    0    0    0    0    0    0    0   \n",
       "12118  0  0  0  0  0  0  0  0  0  0  ...    0    0    0    0    0    0    0   \n",
       "8431   0  0  0  0  0  0  0  0  0  0  ...    0    0    0    0    0    0    0   \n",
       "47328  0  0  0  0  0  0  0  0  0  0  ...    0  128    0    0    0    0    0   \n",
       "20494  0  0  0  0  0  0  0  0  0  0  ...    0    0    0    0    0    0    0   \n",
       "\n",
       "       194  195  y  \n",
       "31160    0    0  5  \n",
       "40088    0    0  6  \n",
       "5025     0    0  0  \n",
       "13921    0    0  2  \n",
       "15877    0    0  2  \n",
       "...    ...  ... ..  \n",
       "8983     0    0  1  \n",
       "12118    0    0  1  \n",
       "8431     0    0  1  \n",
       "47328    0    0  7  \n",
       "20494    0    0  3  \n",
       "\n",
       "[60000 rows x 197 columns]"
      ]
     },
     "execution_count": 12,
     "metadata": {},
     "output_type": "execute_result"
    }
   ],
   "source": [
    "traindata = pd.read_csv('./post/train.csv')\n",
    "testdata = pd.read_csv('./post/test.csv')\n",
    "traindata,testdata = shuffle(traindata),shuffle(testdata)\n",
    "traindata"
   ]
  },
  {
   "cell_type": "code",
   "execution_count": 16,
   "metadata": {},
   "outputs": [],
   "source": [
    "clf_lr = LogisticRegression()\n",
    "param_lr = {\n",
    "    'multi_class':['ovr', 'multinomial'],\n",
    "    'solver':['lbfgs','sag'],\n",
    "    'max_iter':[100,250,500]\n",
    "}\n",
    "gs_lr = sk_ms.GridSearchCV(clf_lr,param_lr,cv=4)"
   ]
  },
  {
   "cell_type": "code",
   "execution_count": null,
   "metadata": {},
   "outputs": [],
   "source": [
    "gs_lr.fit(traindata.iloc[:,:-1],traindata.iloc[:,-1])"
   ]
  },
  {
   "cell_type": "code",
   "execution_count": null,
   "metadata": {},
   "outputs": [
    {
     "name": "stderr",
     "output_type": "stream",
     "text": [
      "c:\\Python310\\lib\\site-packages\\sklearn\\linear_model\\_logistic.py:444: ConvergenceWarning: lbfgs failed to converge (status=1):\n",
      "STOP: TOTAL NO. of ITERATIONS REACHED LIMIT.\n",
      "\n",
      "Increase the number of iterations (max_iter) or scale the data as shown in:\n",
      "    https://scikit-learn.org/stable/modules/preprocessing.html\n",
      "Please also refer to the documentation for alternative solver options:\n",
      "    https://scikit-learn.org/stable/modules/linear_model.html#logistic-regression\n",
      "  n_iter_i = _check_optimize_result(\n",
      "c:\\Python310\\lib\\site-packages\\sklearn\\linear_model\\_logistic.py:444: ConvergenceWarning: lbfgs failed to converge (status=1):\n",
      "STOP: TOTAL NO. of ITERATIONS REACHED LIMIT.\n",
      "\n",
      "Increase the number of iterations (max_iter) or scale the data as shown in:\n",
      "    https://scikit-learn.org/stable/modules/preprocessing.html\n",
      "Please also refer to the documentation for alternative solver options:\n",
      "    https://scikit-learn.org/stable/modules/linear_model.html#logistic-regression\n",
      "  n_iter_i = _check_optimize_result(\n",
      "c:\\Python310\\lib\\site-packages\\sklearn\\linear_model\\_logistic.py:444: ConvergenceWarning: lbfgs failed to converge (status=1):\n",
      "STOP: TOTAL NO. of ITERATIONS REACHED LIMIT.\n",
      "\n",
      "Increase the number of iterations (max_iter) or scale the data as shown in:\n",
      "    https://scikit-learn.org/stable/modules/preprocessing.html\n",
      "Please also refer to the documentation for alternative solver options:\n",
      "    https://scikit-learn.org/stable/modules/linear_model.html#logistic-regression\n",
      "  n_iter_i = _check_optimize_result(\n",
      "c:\\Python310\\lib\\site-packages\\sklearn\\linear_model\\_logistic.py:444: ConvergenceWarning: lbfgs failed to converge (status=1):\n",
      "STOP: TOTAL NO. of ITERATIONS REACHED LIMIT.\n",
      "\n",
      "Increase the number of iterations (max_iter) or scale the data as shown in:\n",
      "    https://scikit-learn.org/stable/modules/preprocessing.html\n",
      "Please also refer to the documentation for alternative solver options:\n",
      "    https://scikit-learn.org/stable/modules/linear_model.html#logistic-regression\n",
      "  n_iter_i = _check_optimize_result(\n",
      "c:\\Python310\\lib\\site-packages\\sklearn\\linear_model\\_logistic.py:444: ConvergenceWarning: lbfgs failed to converge (status=1):\n",
      "STOP: TOTAL NO. of ITERATIONS REACHED LIMIT.\n",
      "\n",
      "Increase the number of iterations (max_iter) or scale the data as shown in:\n",
      "    https://scikit-learn.org/stable/modules/preprocessing.html\n",
      "Please also refer to the documentation for alternative solver options:\n",
      "    https://scikit-learn.org/stable/modules/linear_model.html#logistic-regression\n",
      "  n_iter_i = _check_optimize_result(\n"
     ]
    },
    {
     "data": {
      "text/plain": [
       "0.9148666666666667"
      ]
     },
     "execution_count": 20,
     "metadata": {},
     "output_type": "execute_result"
    }
   ],
   "source": [
    "clf_lr = LogisticRegression(multi_class='multinomial',max_iter=500,random_state=20)\n",
    "sk_ms.cross_val_score(clf_lr,traindata.iloc[:,:-1],traindata.iloc[:,-1],cv=5).mean()\n"
   ]
  },
  {
   "cell_type": "code",
   "execution_count": null,
   "metadata": {},
   "outputs": [
    {
     "name": "stderr",
     "output_type": "stream",
     "text": [
      "c:\\Python310\\lib\\site-packages\\sklearn\\linear_model\\_logistic.py:444: ConvergenceWarning: lbfgs failed to converge (status=1):\n",
      "STOP: TOTAL NO. of ITERATIONS REACHED LIMIT.\n",
      "\n",
      "Increase the number of iterations (max_iter) or scale the data as shown in:\n",
      "    https://scikit-learn.org/stable/modules/preprocessing.html\n",
      "Please also refer to the documentation for alternative solver options:\n",
      "    https://scikit-learn.org/stable/modules/linear_model.html#logistic-regression\n",
      "  n_iter_i = _check_optimize_result(\n"
     ]
    },
    {
     "data": {
      "text/plain": [
       "array([0, 6, 1, ..., 2, 6, 2], dtype=int64)"
      ]
     },
     "execution_count": 21,
     "metadata": {},
     "output_type": "execute_result"
    }
   ],
   "source": [
    "clf_lr.fit(traindata.iloc[:,:-1],traindata.iloc[:,-1])\n",
    "pred = clf_lr.predict(testdata.iloc[:,:-1])\n",
    "pred"
   ]
  },
  {
   "cell_type": "markdown",
   "metadata": {},
   "source": [
    "**Evaluation**\n",
    "> 参考: [CSDN-机器学习模型评分总结(sklearn)](https://blog.csdn.net/wangzi11111111/article/details/88614720)"
   ]
  },
  {
   "cell_type": "code",
   "execution_count": null,
   "metadata": {},
   "outputs": [
    {
     "name": "stdout",
     "output_type": "stream",
     "text": [
      "              precision    recall  f1-score   support\n",
      "\n",
      "           0       0.95      0.98      0.97       980\n",
      "           1       0.97      0.98      0.97      1135\n",
      "           2       0.93      0.89      0.91      1032\n",
      "           3       0.89      0.90      0.90      1010\n",
      "           4       0.92      0.92      0.92       982\n",
      "           5       0.89      0.85      0.87       892\n",
      "           6       0.94      0.95      0.94       958\n",
      "           7       0.93      0.92      0.93      1028\n",
      "           8       0.86      0.88      0.87       974\n",
      "           9       0.91      0.91      0.91      1009\n",
      "\n",
      "    accuracy                           0.92     10000\n",
      "   macro avg       0.92      0.92      0.92     10000\n",
      "weighted avg       0.92      0.92      0.92     10000\n",
      "\n"
     ]
    }
   ],
   "source": [
    "# 模型评估函数存于sklearn.metrics,尝试不同的评估方法\n",
    "# sk_met.accuracy_score(testdata.iloc[:,-1],pred,normalize=True)\n",
    "print(sk_met.classification_report(testdata.iloc[:,-1],pred))\n"
   ]
  },
  {
   "cell_type": "markdown",
   "metadata": {},
   "source": [
    "- 使用`sklearn`的`K近邻算法(K Nearest Neighbors)`处理数据\n",
    "> [知乎:K近邻算法介绍](https://zhuanlan.zhihu.com/p/216384870)"
   ]
  },
  {
   "cell_type": "code",
   "execution_count": null,
   "metadata": {},
   "outputs": [],
   "source": [
    "# 与kmeans一样,需要归一化\n",
    "traindata_knn = (traindata.iloc[:,:-1]/255)#.to_numpy().reshape((-1,14,14))\n",
    "testdata_knn = (testdata.iloc[:,:-1]/255)"
   ]
  },
  {
   "cell_type": "code",
   "execution_count": null,
   "metadata": {},
   "outputs": [
    {
     "data": {
      "text/html": [
       "<div>\n",
       "<style scoped>\n",
       "    .dataframe tbody tr th:only-of-type {\n",
       "        vertical-align: middle;\n",
       "    }\n",
       "\n",
       "    .dataframe tbody tr th {\n",
       "        vertical-align: top;\n",
       "    }\n",
       "\n",
       "    .dataframe thead th {\n",
       "        text-align: right;\n",
       "    }\n",
       "</style>\n",
       "<table border=\"1\" class=\"dataframe\">\n",
       "  <thead>\n",
       "    <tr style=\"text-align: right;\">\n",
       "      <th></th>\n",
       "      <th>0</th>\n",
       "      <th>1</th>\n",
       "      <th>2</th>\n",
       "      <th>3</th>\n",
       "      <th>4</th>\n",
       "      <th>5</th>\n",
       "      <th>6</th>\n",
       "      <th>7</th>\n",
       "      <th>8</th>\n",
       "      <th>9</th>\n",
       "      <th>...</th>\n",
       "      <th>186</th>\n",
       "      <th>187</th>\n",
       "      <th>188</th>\n",
       "      <th>189</th>\n",
       "      <th>190</th>\n",
       "      <th>191</th>\n",
       "      <th>192</th>\n",
       "      <th>193</th>\n",
       "      <th>194</th>\n",
       "      <th>195</th>\n",
       "    </tr>\n",
       "  </thead>\n",
       "  <tbody>\n",
       "    <tr>\n",
       "      <th>count</th>\n",
       "      <td>60000.0</td>\n",
       "      <td>60000.0</td>\n",
       "      <td>60000.0</td>\n",
       "      <td>60000.000000</td>\n",
       "      <td>60000.000000</td>\n",
       "      <td>60000.000000</td>\n",
       "      <td>60000.000000</td>\n",
       "      <td>60000.000000</td>\n",
       "      <td>60000.000000</td>\n",
       "      <td>60000.000000</td>\n",
       "      <td>...</td>\n",
       "      <td>60000.000000</td>\n",
       "      <td>60000.000000</td>\n",
       "      <td>60000.000000</td>\n",
       "      <td>60000.000000</td>\n",
       "      <td>60000.000000</td>\n",
       "      <td>60000.000000</td>\n",
       "      <td>60000.000000</td>\n",
       "      <td>60000.000000</td>\n",
       "      <td>60000.0</td>\n",
       "      <td>60000.0</td>\n",
       "    </tr>\n",
       "    <tr>\n",
       "      <th>mean</th>\n",
       "      <td>0.0</td>\n",
       "      <td>0.0</td>\n",
       "      <td>0.0</td>\n",
       "      <td>0.000025</td>\n",
       "      <td>0.000105</td>\n",
       "      <td>0.000280</td>\n",
       "      <td>0.000335</td>\n",
       "      <td>0.000356</td>\n",
       "      <td>0.000351</td>\n",
       "      <td>0.000159</td>\n",
       "      <td>...</td>\n",
       "      <td>0.006018</td>\n",
       "      <td>0.011290</td>\n",
       "      <td>0.013667</td>\n",
       "      <td>0.011048</td>\n",
       "      <td>0.006701</td>\n",
       "      <td>0.002868</td>\n",
       "      <td>0.000799</td>\n",
       "      <td>0.000079</td>\n",
       "      <td>0.0</td>\n",
       "      <td>0.0</td>\n",
       "    </tr>\n",
       "    <tr>\n",
       "      <th>std</th>\n",
       "      <td>0.0</td>\n",
       "      <td>0.0</td>\n",
       "      <td>0.0</td>\n",
       "      <td>0.002898</td>\n",
       "      <td>0.006232</td>\n",
       "      <td>0.010294</td>\n",
       "      <td>0.010638</td>\n",
       "      <td>0.010886</td>\n",
       "      <td>0.011125</td>\n",
       "      <td>0.006948</td>\n",
       "      <td>...</td>\n",
       "      <td>0.049482</td>\n",
       "      <td>0.068822</td>\n",
       "      <td>0.076551</td>\n",
       "      <td>0.070658</td>\n",
       "      <td>0.055258</td>\n",
       "      <td>0.035342</td>\n",
       "      <td>0.018268</td>\n",
       "      <td>0.005517</td>\n",
       "      <td>0.0</td>\n",
       "      <td>0.0</td>\n",
       "    </tr>\n",
       "    <tr>\n",
       "      <th>min</th>\n",
       "      <td>0.0</td>\n",
       "      <td>0.0</td>\n",
       "      <td>0.0</td>\n",
       "      <td>0.000000</td>\n",
       "      <td>0.000000</td>\n",
       "      <td>0.000000</td>\n",
       "      <td>0.000000</td>\n",
       "      <td>0.000000</td>\n",
       "      <td>0.000000</td>\n",
       "      <td>0.000000</td>\n",
       "      <td>...</td>\n",
       "      <td>0.000000</td>\n",
       "      <td>0.000000</td>\n",
       "      <td>0.000000</td>\n",
       "      <td>0.000000</td>\n",
       "      <td>0.000000</td>\n",
       "      <td>0.000000</td>\n",
       "      <td>0.000000</td>\n",
       "      <td>0.000000</td>\n",
       "      <td>0.0</td>\n",
       "      <td>0.0</td>\n",
       "    </tr>\n",
       "    <tr>\n",
       "      <th>25%</th>\n",
       "      <td>0.0</td>\n",
       "      <td>0.0</td>\n",
       "      <td>0.0</td>\n",
       "      <td>0.000000</td>\n",
       "      <td>0.000000</td>\n",
       "      <td>0.000000</td>\n",
       "      <td>0.000000</td>\n",
       "      <td>0.000000</td>\n",
       "      <td>0.000000</td>\n",
       "      <td>0.000000</td>\n",
       "      <td>...</td>\n",
       "      <td>0.000000</td>\n",
       "      <td>0.000000</td>\n",
       "      <td>0.000000</td>\n",
       "      <td>0.000000</td>\n",
       "      <td>0.000000</td>\n",
       "      <td>0.000000</td>\n",
       "      <td>0.000000</td>\n",
       "      <td>0.000000</td>\n",
       "      <td>0.0</td>\n",
       "      <td>0.0</td>\n",
       "    </tr>\n",
       "    <tr>\n",
       "      <th>50%</th>\n",
       "      <td>0.0</td>\n",
       "      <td>0.0</td>\n",
       "      <td>0.0</td>\n",
       "      <td>0.000000</td>\n",
       "      <td>0.000000</td>\n",
       "      <td>0.000000</td>\n",
       "      <td>0.000000</td>\n",
       "      <td>0.000000</td>\n",
       "      <td>0.000000</td>\n",
       "      <td>0.000000</td>\n",
       "      <td>...</td>\n",
       "      <td>0.000000</td>\n",
       "      <td>0.000000</td>\n",
       "      <td>0.000000</td>\n",
       "      <td>0.000000</td>\n",
       "      <td>0.000000</td>\n",
       "      <td>0.000000</td>\n",
       "      <td>0.000000</td>\n",
       "      <td>0.000000</td>\n",
       "      <td>0.0</td>\n",
       "      <td>0.0</td>\n",
       "    </tr>\n",
       "    <tr>\n",
       "      <th>75%</th>\n",
       "      <td>0.0</td>\n",
       "      <td>0.0</td>\n",
       "      <td>0.0</td>\n",
       "      <td>0.000000</td>\n",
       "      <td>0.000000</td>\n",
       "      <td>0.000000</td>\n",
       "      <td>0.000000</td>\n",
       "      <td>0.000000</td>\n",
       "      <td>0.000000</td>\n",
       "      <td>0.000000</td>\n",
       "      <td>...</td>\n",
       "      <td>0.000000</td>\n",
       "      <td>0.000000</td>\n",
       "      <td>0.000000</td>\n",
       "      <td>0.000000</td>\n",
       "      <td>0.000000</td>\n",
       "      <td>0.000000</td>\n",
       "      <td>0.000000</td>\n",
       "      <td>0.000000</td>\n",
       "      <td>0.0</td>\n",
       "      <td>0.0</td>\n",
       "    </tr>\n",
       "    <tr>\n",
       "      <th>max</th>\n",
       "      <td>0.0</td>\n",
       "      <td>0.0</td>\n",
       "      <td>0.0</td>\n",
       "      <td>0.501961</td>\n",
       "      <td>0.501961</td>\n",
       "      <td>0.501961</td>\n",
       "      <td>0.749020</td>\n",
       "      <td>0.501961</td>\n",
       "      <td>0.501961</td>\n",
       "      <td>0.501961</td>\n",
       "      <td>...</td>\n",
       "      <td>1.000000</td>\n",
       "      <td>1.000000</td>\n",
       "      <td>1.000000</td>\n",
       "      <td>1.000000</td>\n",
       "      <td>1.000000</td>\n",
       "      <td>1.000000</td>\n",
       "      <td>1.000000</td>\n",
       "      <td>0.501961</td>\n",
       "      <td>0.0</td>\n",
       "      <td>0.0</td>\n",
       "    </tr>\n",
       "  </tbody>\n",
       "</table>\n",
       "<p>8 rows × 196 columns</p>\n",
       "</div>"
      ],
      "text/plain": [
       "             0        1        2             3             4             5  \\\n",
       "count  60000.0  60000.0  60000.0  60000.000000  60000.000000  60000.000000   \n",
       "mean       0.0      0.0      0.0      0.000025      0.000105      0.000280   \n",
       "std        0.0      0.0      0.0      0.002898      0.006232      0.010294   \n",
       "min        0.0      0.0      0.0      0.000000      0.000000      0.000000   \n",
       "25%        0.0      0.0      0.0      0.000000      0.000000      0.000000   \n",
       "50%        0.0      0.0      0.0      0.000000      0.000000      0.000000   \n",
       "75%        0.0      0.0      0.0      0.000000      0.000000      0.000000   \n",
       "max        0.0      0.0      0.0      0.501961      0.501961      0.501961   \n",
       "\n",
       "                  6             7             8             9  ...  \\\n",
       "count  60000.000000  60000.000000  60000.000000  60000.000000  ...   \n",
       "mean       0.000335      0.000356      0.000351      0.000159  ...   \n",
       "std        0.010638      0.010886      0.011125      0.006948  ...   \n",
       "min        0.000000      0.000000      0.000000      0.000000  ...   \n",
       "25%        0.000000      0.000000      0.000000      0.000000  ...   \n",
       "50%        0.000000      0.000000      0.000000      0.000000  ...   \n",
       "75%        0.000000      0.000000      0.000000      0.000000  ...   \n",
       "max        0.749020      0.501961      0.501961      0.501961  ...   \n",
       "\n",
       "                186           187           188           189           190  \\\n",
       "count  60000.000000  60000.000000  60000.000000  60000.000000  60000.000000   \n",
       "mean       0.006018      0.011290      0.013667      0.011048      0.006701   \n",
       "std        0.049482      0.068822      0.076551      0.070658      0.055258   \n",
       "min        0.000000      0.000000      0.000000      0.000000      0.000000   \n",
       "25%        0.000000      0.000000      0.000000      0.000000      0.000000   \n",
       "50%        0.000000      0.000000      0.000000      0.000000      0.000000   \n",
       "75%        0.000000      0.000000      0.000000      0.000000      0.000000   \n",
       "max        1.000000      1.000000      1.000000      1.000000      1.000000   \n",
       "\n",
       "                191           192           193      194      195  \n",
       "count  60000.000000  60000.000000  60000.000000  60000.0  60000.0  \n",
       "mean       0.002868      0.000799      0.000079      0.0      0.0  \n",
       "std        0.035342      0.018268      0.005517      0.0      0.0  \n",
       "min        0.000000      0.000000      0.000000      0.0      0.0  \n",
       "25%        0.000000      0.000000      0.000000      0.0      0.0  \n",
       "50%        0.000000      0.000000      0.000000      0.0      0.0  \n",
       "75%        0.000000      0.000000      0.000000      0.0      0.0  \n",
       "max        1.000000      1.000000      0.501961      0.0      0.0  \n",
       "\n",
       "[8 rows x 196 columns]"
      ]
     },
     "execution_count": 30,
     "metadata": {},
     "output_type": "execute_result"
    }
   ],
   "source": [
    "traindata_knn.describe()"
   ]
  },
  {
   "cell_type": "code",
   "execution_count": null,
   "metadata": {},
   "outputs": [
    {
     "name": "stdout",
     "output_type": "stream",
     "text": [
      "analysis of k == 1 completed...\n",
      "analysis of k == 3 completed...\n",
      "analysis of k == 5 completed...\n",
      "analysis of k == 7 completed...\n",
      "analysis of k == 9 completed...\n",
      "analysis of k == 11 completed...\n",
      "analysis of k == 13 completed...\n",
      "analysis of k == 15 completed...\n",
      "analysis of k == 17 completed...\n",
      "analysis of k == 19 completed...\n"
     ]
    },
    {
     "data": {
      "text/plain": [
       "[[1, 0.9662],\n",
       " [3, 0.968],\n",
       " [5, 0.9688],\n",
       " [7, 0.9688],\n",
       " [9, 0.9681],\n",
       " [11, 0.9657],\n",
       " [13, 0.9655],\n",
       " [15, 0.9644],\n",
       " [17, 0.9637],\n",
       " [19, 0.9625]]"
      ]
     },
     "execution_count": 24,
     "metadata": {},
     "output_type": "execute_result"
    }
   ],
   "source": [
    "scores = []\n",
    "for i in range(1,20,2):\n",
    "    knc = KNeighborsClassifier(n_neighbors=i)\n",
    "    knc.fit(traindata_knn,traindata.iloc[:,-1])\n",
    "    scores.append([i,knc.score(testdata_knn,testdata.iloc[:,-1])])\n",
    "    print(f'analysis of k == {i} completed...')\n",
    "scores"
   ]
  },
  {
   "cell_type": "code",
   "execution_count": null,
   "metadata": {},
   "outputs": [
    {
     "data": {
      "text/html": [
       "\n",
       "<script>\n",
       "    require.config({\n",
       "        paths: {\n",
       "            'echarts':'https://assets.pyecharts.org/assets/echarts.min'\n",
       "        }\n",
       "    });\n",
       "</script>\n",
       "\n",
       "        <div id=\"290ce898c69e4c02b5460fb78ed141f4\" style=\"width:800px; height:600px;\"></div>\n",
       "\n",
       "<script>\n",
       "        require(['echarts'], function(echarts) {\n",
       "                var chart_290ce898c69e4c02b5460fb78ed141f4 = echarts.init(\n",
       "                    document.getElementById('290ce898c69e4c02b5460fb78ed141f4'), 'white', {renderer: 'canvas'});\n",
       "                var option_290ce898c69e4c02b5460fb78ed141f4 = {\n",
       "    \"backgroundColor\": \"white\",\n",
       "    \"animation\": true,\n",
       "    \"animationThreshold\": 2000,\n",
       "    \"animationDuration\": 1000,\n",
       "    \"animationEasing\": \"cubicOut\",\n",
       "    \"animationDelay\": 0,\n",
       "    \"animationDurationUpdate\": 300,\n",
       "    \"animationEasingUpdate\": \"cubicOut\",\n",
       "    \"animationDelayUpdate\": 0,\n",
       "    \"color\": [\n",
       "        \"#c23531\",\n",
       "        \"#2f4554\",\n",
       "        \"#61a0a8\",\n",
       "        \"#d48265\",\n",
       "        \"#749f83\",\n",
       "        \"#ca8622\",\n",
       "        \"#bda29a\",\n",
       "        \"#6e7074\",\n",
       "        \"#546570\",\n",
       "        \"#c4ccd3\",\n",
       "        \"#f05b72\",\n",
       "        \"#ef5b9c\",\n",
       "        \"#f47920\",\n",
       "        \"#905a3d\",\n",
       "        \"#fab27b\",\n",
       "        \"#2a5caa\",\n",
       "        \"#444693\",\n",
       "        \"#726930\",\n",
       "        \"#b2d235\",\n",
       "        \"#6d8346\",\n",
       "        \"#ac6767\",\n",
       "        \"#1d953f\",\n",
       "        \"#6950a1\",\n",
       "        \"#918597\"\n",
       "    ],\n",
       "    \"series\": [\n",
       "        {\n",
       "            \"type\": \"line\",\n",
       "            \"name\": \"score\",\n",
       "            \"connectNulls\": false,\n",
       "            \"symbolSize\": 4,\n",
       "            \"showSymbol\": true,\n",
       "            \"smooth\": false,\n",
       "            \"clip\": true,\n",
       "            \"step\": false,\n",
       "            \"data\": [\n",
       "                [\n",
       "                    1.0,\n",
       "                    0.9662\n",
       "                ],\n",
       "                [\n",
       "                    3.0,\n",
       "                    0.968\n",
       "                ],\n",
       "                [\n",
       "                    5.0,\n",
       "                    0.9688\n",
       "                ],\n",
       "                [\n",
       "                    7.0,\n",
       "                    0.9688\n",
       "                ],\n",
       "                [\n",
       "                    9.0,\n",
       "                    0.9681\n",
       "                ],\n",
       "                [\n",
       "                    11.0,\n",
       "                    0.9657\n",
       "                ],\n",
       "                [\n",
       "                    13.0,\n",
       "                    0.9655\n",
       "                ],\n",
       "                [\n",
       "                    15.0,\n",
       "                    0.9644\n",
       "                ],\n",
       "                [\n",
       "                    17.0,\n",
       "                    0.9637\n",
       "                ],\n",
       "                [\n",
       "                    19.0,\n",
       "                    0.9625\n",
       "                ]\n",
       "            ],\n",
       "            \"hoverAnimation\": true,\n",
       "            \"label\": {\n",
       "                \"show\": true,\n",
       "                \"position\": \"top\",\n",
       "                \"margin\": 8\n",
       "            },\n",
       "            \"lineStyle\": {\n",
       "                \"show\": true,\n",
       "                \"width\": 1,\n",
       "                \"opacity\": 1,\n",
       "                \"curveness\": 0,\n",
       "                \"type\": \"solid\"\n",
       "            },\n",
       "            \"areaStyle\": {\n",
       "                \"opacity\": 0\n",
       "            },\n",
       "            \"zlevel\": 0,\n",
       "            \"z\": 0\n",
       "        }\n",
       "    ],\n",
       "    \"legend\": [\n",
       "        {\n",
       "            \"data\": [\n",
       "                \"score\"\n",
       "            ],\n",
       "            \"selected\": {\n",
       "                \"score\": true\n",
       "            },\n",
       "            \"show\": true,\n",
       "            \"padding\": 5,\n",
       "            \"itemGap\": 10,\n",
       "            \"itemWidth\": 25,\n",
       "            \"itemHeight\": 14\n",
       "        }\n",
       "    ],\n",
       "    \"tooltip\": {\n",
       "        \"show\": true,\n",
       "        \"trigger\": \"item\",\n",
       "        \"triggerOn\": \"mousemove|click\",\n",
       "        \"axisPointer\": {\n",
       "            \"type\": \"line\"\n",
       "        },\n",
       "        \"showContent\": true,\n",
       "        \"alwaysShowContent\": false,\n",
       "        \"showDelay\": 0,\n",
       "        \"hideDelay\": 100,\n",
       "        \"textStyle\": {\n",
       "            \"fontSize\": 14\n",
       "        },\n",
       "        \"borderWidth\": 0,\n",
       "        \"padding\": 5\n",
       "    },\n",
       "    \"xAxis\": [\n",
       "        {\n",
       "            \"name\": \"K\",\n",
       "            \"show\": true,\n",
       "            \"scale\": false,\n",
       "            \"nameLocation\": \"end\",\n",
       "            \"nameGap\": 15,\n",
       "            \"gridIndex\": 0,\n",
       "            \"inverse\": false,\n",
       "            \"offset\": 0,\n",
       "            \"splitNumber\": 5,\n",
       "            \"minInterval\": 0,\n",
       "            \"splitLine\": {\n",
       "                \"show\": false,\n",
       "                \"lineStyle\": {\n",
       "                    \"show\": true,\n",
       "                    \"width\": 1,\n",
       "                    \"opacity\": 1,\n",
       "                    \"curveness\": 0,\n",
       "                    \"type\": \"solid\"\n",
       "                }\n",
       "            },\n",
       "            \"data\": null\n",
       "        }\n",
       "    ],\n",
       "    \"yAxis\": [\n",
       "        {\n",
       "            \"show\": true,\n",
       "            \"scale\": false,\n",
       "            \"nameLocation\": \"end\",\n",
       "            \"nameGap\": 15,\n",
       "            \"gridIndex\": 0,\n",
       "            \"inverse\": false,\n",
       "            \"offset\": 0,\n",
       "            \"splitNumber\": 5,\n",
       "            \"min\": 0.9525,\n",
       "            \"minInterval\": 0,\n",
       "            \"splitLine\": {\n",
       "                \"show\": false,\n",
       "                \"lineStyle\": {\n",
       "                    \"show\": true,\n",
       "                    \"width\": 1,\n",
       "                    \"opacity\": 1,\n",
       "                    \"curveness\": 0,\n",
       "                    \"type\": \"solid\"\n",
       "                }\n",
       "            }\n",
       "        }\n",
       "    ],\n",
       "    \"title\": [\n",
       "        {\n",
       "            \"text\": \"\\u6b63\\u786e\\u7387-K\\u503c  \\u6298\\u7ebf\\u56fe\",\n",
       "            \"padding\": 5,\n",
       "            \"itemGap\": 10\n",
       "        }\n",
       "    ]\n",
       "};\n",
       "                chart_290ce898c69e4c02b5460fb78ed141f4.setOption(option_290ce898c69e4c02b5460fb78ed141f4);\n",
       "        });\n",
       "    </script>\n"
      ],
      "text/plain": [
       "<pyecharts.render.display.HTML at 0x216b7955390>"
      ]
     },
     "execution_count": 25,
     "metadata": {},
     "output_type": "execute_result"
    }
   ],
   "source": [
    "scores = np.array(scores)\n",
    "graph = (\n",
    "    Line(init_opts=opts.InitOpts(width='800px',height='600px',bg_color='white'))\n",
    "    .add_xaxis(scores[:,0])\n",
    "    .add_yaxis('score',scores[:,1])\n",
    "    .set_global_opts(\n",
    "        title_opts=opts.TitleOpts('正确率-K值  折线图'),\n",
    "        xaxis_opts=opts.AxisOpts(name='K'),\n",
    "        yaxis_opts=opts.AxisOpts(min_=scores[:,1].min()-0.01)\n",
    "    )\n",
    ")\n",
    "graph.render_notebook()"
   ]
  },
  {
   "cell_type": "code",
   "execution_count": null,
   "metadata": {},
   "outputs": [
    {
     "name": "stdout",
     "output_type": "stream",
     "text": [
      "              precision    recall  f1-score   support\n",
      "\n",
      "           0       0.97      0.99      0.98       980\n",
      "           1       0.96      1.00      0.98      1135\n",
      "           2       0.98      0.96      0.97      1032\n",
      "           3       0.97      0.97      0.97      1010\n",
      "           4       0.98      0.97      0.97       982\n",
      "           5       0.96      0.96      0.96       892\n",
      "           6       0.98      0.99      0.98       958\n",
      "           7       0.96      0.96      0.96      1028\n",
      "           8       0.98      0.94      0.96       974\n",
      "           9       0.95      0.96      0.96      1009\n",
      "\n",
      "    accuracy                           0.97     10000\n",
      "   macro avg       0.97      0.97      0.97     10000\n",
      "weighted avg       0.97      0.97      0.97     10000\n",
      "\n"
     ]
    }
   ],
   "source": [
    "# 确定参数并评估\n",
    "knc = KNeighborsClassifier(n_neighbors=5)\n",
    "knc.fit(traindata_knn,traindata.iloc[:,-1])\n",
    "pred_knn = knc.predict(testdata_knn)\n",
    "print(sk_met.classification_report(testdata.iloc[:,-1],pred_knn))"
   ]
  },
  {
   "cell_type": "markdown",
   "metadata": {},
   "source": [
    "- 使用`Pytorch`的`卷积神经网络(convolutional Neural Network)`训练数据\n",
    "    - 需要保持图像形状,故不做resize处理,整体流程与上皆不相同.\n",
    "    - 需要借助netron可视化网络结构\n",
    "> 见 [PyTorch: Training your first Convolutional Neural Network (CNN)](https://pyimagesearch.com/2021/07/19/pytorch-training-your-first-convolutional-neural-network-cnn/) , [Pytorch实现卷积神经网络CNN](https://www.cnblogs.com/yangmang/p/7530748.html) 以及 [NETRON安装及使用](https://blog.csdn.net/Wenyuanbo/article/details/118736258)\n",
    "\n",
    "> torch,tensorflow,keras等,使用GPU训练时需要CUDA,见: [pytorch gpu版本的最全安装教程，含环境配置、CUDA（百度云下载）安装程序失败解决方案](https://blog.csdn.net/L1778586311/article/details/112425993)"
   ]
  },
  {
   "cell_type": "markdown",
   "metadata": {},
   "source": [
    "- **torch gpu版本安装注意事项**\n",
    "  1. `Win+R`执行`cmd`进入命令行,执行`nvidia-smi`,查看cudaversion,为驱动最高支持的版本.\n",
    "   \n",
    "   ![](pics/2023-02-04-13-52-59.png)\n",
    "\n",
    "   若想提高版本需要更新显卡驱动\n",
    "  2. 查看[pytorch官网](https://pytorch.org/get-started/locally/),注意pytorch支持的cuda版本,结合驱动支持的版本选择\n",
    "  3. 从[CUDA官网](https://developer.nvidia.com/cuda-toolkit-archive)下载对应的CUDA并安装(可安装多个版本)\n",
    "  4. 下载`cudnn`对应版本[网址](https://developer.nvidia.com/rdp/cudnn-download):\n",
    "\n",
    "    ![](pics/2023-02-04-14-01-40.png)\n",
    "\n",
    "    ![](pics/2023-02-04-14-03-15.png)\n",
    "\n",
    "    参照: [完整安装教程](https://blog.csdn.net/L1778586311/article/details/112425993) 的`环境变量`部分配置变量\n",
    "  5. 目前的pytorch-gpu版,只支持`python3.6-python3.9`,因此最好使用`conda`建立gpu训练专用环境\n",
    "     - `conda create -n [环境名] python=3.8`\n",
    "     - `conda activate [环境名]`切入\n",
    "     - `conda install [包]`安装其他想要的依赖包\n",
    "     - 第二步的网址,根据选择会出现安装pytorch的命令,复制执行即可:\n",
    "\n",
    "        ![](pics/2023-02-04-14-13-38.png)\n",
    "\n",
    "        ![](pics/2023-02-04-14-26-22.png)\n",
    "\n",
    "     - 按照[完整安装教程](https://blog.csdn.net/L1778586311/article/details/112425993)的`验证`部分验证安装无误后:\n",
    "\n",
    "        ![](pics/2023-02-04-14-14-52.png)\n",
    "\n",
    "        当结果为`True`时则表示能成功使用pytorch-GPU版本\n",
    "\n",
    "- `keras,tensorflow,pytorch`均对`python版本,cuda版本,自身版本`有要求,注意明辨.\n",
    "- [keras gpu版 安装教程](https://blog.csdn.net/fun_always/article/details/103357840)\n",
    "- [tensorflow-gpu 安装](https://blog.csdn.net/m0_49090516/article/details/113576003)"
   ]
  },
  {
   "cell_type": "code",
   "execution_count": 13,
   "metadata": {},
   "outputs": [
    {
     "data": {
      "text/plain": [
       "True"
      ]
     },
     "execution_count": 13,
     "metadata": {},
     "output_type": "execute_result"
    }
   ],
   "source": [
    "# 测试cuda可用性:\n",
    "torch.cuda.is_available()"
   ]
  },
  {
   "cell_type": "code",
   "execution_count": 14,
   "metadata": {},
   "outputs": [],
   "source": [
    "#定义网络模型\n",
    "class Net(nn.Module):\n",
    "    def __init__(self):\n",
    "        super(Net, self).__init__()\n",
    "        self.conv1 = nn.Conv2d(1, 32, kernel_size=5, stride=1, padding=2) # 卷积层,输入通道1,输出通道32,核大小5,步长1,填充2\n",
    "        self.conv2 = nn.Conv2d(32, 64, kernel_size=5, stride=1, padding=2) # 卷积层,输入通道32,输出通道64,核大小5,步长1,填充2\n",
    "        self.bn1 = nn.BatchNorm2d(64) # 归一化层\n",
    "        self.pool = nn.MaxPool2d(2,2) # 池化层,池化核大小2X2,步长2\n",
    "        self.fc1 = nn.Linear(7*7*64, 128) # 全连接层,输出节点128\n",
    "        self.fc2 = nn.Linear(128, 10) # 全连接层,输出节点10\n",
    "    def forward(self, x):\n",
    "        x = self.pool(F.relu(self.bn1(self.conv2(F.relu(self.conv1(x))))))\n",
    "        x = x.view(-1, 7*7*64)    # 把二维的数据展平成一维的\n",
    "        x = F.relu(self.fc1(x)) # 全连接层1\n",
    "        x = self.fc2(x) # 全连接层2\n",
    "        return x"
   ]
  },
  {
   "cell_type": "code",
   "execution_count": 15,
   "metadata": {},
   "outputs": [],
   "source": [
    "\n",
    "epoch,batch,rate = 10,160,0.001\n",
    "lenet = Net().cuda()\n",
    "lossfunc = nn.CrossEntropyLoss().cuda()\n",
    "optim = torch.optim.Adam(lenet.parameters(),lr=rate)\n",
    "X_train = traindata.to_numpy()[:,:-1].reshape((-1,1,14,14))/255\n",
    "Y_train = traindata.to_numpy()[:,-1]\n",
    "X_test = testdata.to_numpy()[:,:-1].reshape((-1,1,14,14))/255\n",
    "Y_test = testdata.to_numpy()[:,-1]"
   ]
  },
  {
   "cell_type": "code",
   "execution_count": 16,
   "metadata": {},
   "outputs": [
    {
     "name": "stdout",
     "output_type": "stream",
     "text": [
      "2\n"
     ]
    },
    {
     "data": {
      "image/png": "[encoded data removed]",
      "text/plain": [
       "<Figure size 640x480 with 1 Axes>"
      ]
     },
     "metadata": {},
     "output_type": "display_data"
    }
   ],
   "source": [
    "#验证是否转换正确\n",
    "plt.imshow(X_test[1].reshape((14,14)))\n",
    "print(Y_test[1])"
   ]
  },
  {
   "cell_type": "code",
   "execution_count": 17,
   "metadata": {},
   "outputs": [],
   "source": [
    "# dataloader 封装\n",
    "tr_x,tr_y,t_x,t_y = torch.from_numpy(X_train),torch.from_numpy(Y_train),torch.from_numpy(X_test),torch.from_numpy(Y_test)\n",
    "tr_x = tr_x.type(torch.float32)\n",
    "t_x = t_x.type(torch.float32)\n",
    "train_set = data.TensorDataset(tr_x,tr_y)\n",
    "train_loader = data.DataLoader(train_set,batch,True,num_workers=4)\n",
    "test_set = data.TensorDataset(t_x,t_y)\n",
    "test_loader = data.DataLoader(train_set,batch,True,num_workers=4)"
   ]
  },
  {
   "cell_type": "code",
   "execution_count": 18,
   "metadata": {},
   "outputs": [
    {
     "data": {
      "text/plain": [
       "torch.Size([60000, 1, 14, 14])"
      ]
     },
     "execution_count": 18,
     "metadata": {},
     "output_type": "execute_result"
    }
   ],
   "source": [
    "tr_x.size()"
   ]
  },
  {
   "cell_type": "markdown",
   "metadata": {},
   "source": [
    "[十分钟入门PyTorch之数据集构建](https://zhuanlan.zhihu.com/p/256393650)对于理解tensor大有脾益"
   ]
  },
  {
   "cell_type": "code",
   "execution_count": 19,
   "metadata": {},
   "outputs": [
    {
     "name": "stdout",
     "output_type": "stream",
     "text": [
      "Epoch:[1/10]|step:[125/375]|train loss: 0.21647970378398895\n",
      "Epoch:[1/10]|step:[250/375]|train loss: 0.04344648867845535\n",
      "Epoch:[1/10]|step:[375/375]|train loss: 0.20141950249671936\n",
      "Epoch:[2/10]|step:[125/375]|train loss: 0.055211104452610016\n",
      "Epoch:[2/10]|step:[250/375]|train loss: 0.04421372711658478\n",
      "Epoch:[2/10]|step:[375/375]|train loss: 0.07064168155193329\n",
      "Epoch:[3/10]|step:[125/375]|train loss: 0.03982389718294144\n",
      "Epoch:[3/10]|step:[250/375]|train loss: 0.01860080659389496\n",
      "Epoch:[3/10]|step:[375/375]|train loss: 0.005803832318633795\n",
      "Epoch:[4/10]|step:[125/375]|train loss: 0.013525332324206829\n",
      "Epoch:[4/10]|step:[250/375]|train loss: 0.00954093411564827\n",
      "Epoch:[4/10]|step:[375/375]|train loss: 0.019330700859427452\n",
      "Epoch:[5/10]|step:[125/375]|train loss: 0.03435852751135826\n",
      "Epoch:[5/10]|step:[250/375]|train loss: 0.012898273766040802\n",
      "Epoch:[5/10]|step:[375/375]|train loss: 0.054399020969867706\n",
      "Epoch:[6/10]|step:[125/375]|train loss: 0.017768139019608498\n",
      "Epoch:[6/10]|step:[250/375]|train loss: 0.005719715263694525\n",
      "Epoch:[6/10]|step:[375/375]|train loss: 0.0032826154492795467\n",
      "Epoch:[7/10]|step:[125/375]|train loss: 0.012779603712260723\n",
      "Epoch:[7/10]|step:[250/375]|train loss: 0.007278534583747387\n",
      "Epoch:[7/10]|step:[375/375]|train loss: 0.026065239682793617\n",
      "Epoch:[8/10]|step:[125/375]|train loss: 0.004175007808953524\n",
      "Epoch:[8/10]|step:[250/375]|train loss: 0.00854136236011982\n",
      "Epoch:[8/10]|step:[375/375]|train loss: 0.023763082921504974\n",
      "Epoch:[9/10]|step:[125/375]|train loss: 0.03883045166730881\n",
      "Epoch:[9/10]|step:[250/375]|train loss: 0.04514077678322792\n",
      "Epoch:[9/10]|step:[375/375]|train loss: 0.10774761438369751\n",
      "Epoch:[10/10]|step:[125/375]|train loss: 0.0021355878561735153\n",
      "Epoch:[10/10]|step:[250/375]|train loss: 0.0006792588974349201\n",
      "Epoch:[10/10]|step:[375/375]|train loss: 0.016213661059737206\n",
      "finished training\n"
     ]
    }
   ],
   "source": [
    "# train\n",
    "for run in range(epoch):\n",
    "    for step ,(b_x,b_y) in enumerate(train_loader):\n",
    "        b_x,b_y = b_x.cuda(),b_y.cuda()\n",
    "        output = lenet(b_x)\n",
    "        loss = lossfunc(output,b_y)\n",
    "\n",
    "        optim.zero_grad()\n",
    "        loss.backward()\n",
    "        optim.step()\n",
    "\n",
    "        if (step+1)%125 ==0:\n",
    "            print(f'Epoch:[{run+1}/{epoch}]|step:[{step+1}/{len(train_loader)}]|train loss: {loss.item()}')\n",
    "\n",
    "print('finished training')"
   ]
  },
  {
   "cell_type": "code",
   "execution_count": 20,
   "metadata": {},
   "outputs": [
    {
     "name": "stdout",
     "output_type": "stream",
     "text": [
      "test avg loss : 0.00017594855969946366, acc : 99.09666666666666\n"
     ]
    }
   ],
   "source": [
    "# test\n",
    "lenet.eval()\n",
    "corr, acc, t_loss = 0.0,0.0,0.0\n",
    "with torch.no_grad():\n",
    "    for step ,(b_x,b_y) in enumerate(test_loader):\n",
    "        b_x,b_y = b_x.cuda(),b_y.cuda()\n",
    "        output = lenet(b_x)\n",
    "        t_loss += lossfunc(output,b_y).item()\n",
    "        pred = output.argmax(dim=1)\n",
    "        corr += pred.eq(b_y.view_as(pred)).sum().item()\n",
    "    t_loss /= len(test_loader.dataset)\n",
    "    acc = corr*100/len(test_loader.dataset)\n",
    "    print(f'test avg loss : {t_loss}, acc : {acc}')"
   ]
  },
  {
   "cell_type": "markdown",
   "metadata": {},
   "source": [
    "- **模型保存**"
   ]
  },
  {
   "cell_type": "code",
   "execution_count": 21,
   "metadata": {},
   "outputs": [],
   "source": [
    "# with open('./models/clf_lr.pkl','wb')as f:pickle.dump(clf_lr,f)\n",
    "# with open('./models/knc.pkl','wb')as f:pickle.dump(knc,f)\n",
    "torch.save(lenet.state_dict(),'./models/cnn_mnist.pkl')"
   ]
  },
  {
   "cell_type": "markdown",
   "metadata": {},
   "source": [
    "----\n",
    "### 下位机\n",
    "\n",
    "- [自动生成tkinter布局的网址](https://www.visualtk.com/)\n",
    "- [python中tkinter窗口位置](https://zhuanlan.zhihu.com/p/339307582)"
   ]
  },
  {
   "cell_type": "code",
   "execution_count": null,
   "metadata": {},
   "outputs": [],
   "source": [
    "# 展示用,想用请执行 gui.py\n",
    "import tkinter as tk\n",
    "from os import system\n",
    "try:\n",
    "    from pickle import load\n",
    "    from cv2 import imread,resize\n",
    "    from PIL.ImageGrab import grab\n",
    "except Exception:\n",
    "    ok = system('pip install scikit-learn,torch,numpy,pandas,matplotlib,pillow,opencv-python -i https://pypi.tuna.tsinghua.edu.cn/simple')\n",
    "    print('成功安装所需包...')if ok else print('未知错误...')\n",
    "\n",
    "#事件_默认文本\n",
    "def info_default(event):info['text'] = '无动作'\n",
    "#事件_画图\n",
    "def draw_track(event):\n",
    "    l_canvas.create_oval(event.x,event.y,event.x+15,event.y+15,fill='white',outline='white',tag='track')\n",
    "    info['text'] = f\"坐标[{event.x},{event.y}]\"\n",
    "#事件_清除图像\n",
    "def clear_track():l_canvas.delete('track')\n",
    "#单选按钮选择事件\n",
    "def selector():\n",
    "    global model\n",
    "    if flag.get() == 0:pass\n",
    "    elif flag.get() == 1:\n",
    "        with open('./models/clf_lr.pkl','rb')as f:model = load(f)\n",
    "        info['text'] = 'LR模型加载完成!'\n",
    "    elif flag.get() == 2:\n",
    "        with open('./models/knc.pkl','rb')as f:model = load(f)\n",
    "        info['text'] = 'KNN模型加载完成!'\n",
    "    elif flag.get() == 3:\n",
    "        with open('./models/cnn_mnist.pkl','rb')as f:model = load(f)\n",
    "        info['text'] = 'CNN模型加载完成!'\n",
    "#事件_执行分析\n",
    "def execution():\n",
    "    im=grab(bbox=(3,48,240,317))\n",
    "    im.save('temp.png','PNG')\n",
    "    gray = imread('./temp.png',0)\n",
    "    print(gray.shape)\n",
    "    flattened = resize(gray,(14,14)).reshape(1,-1)\n",
    "    if flag.get() == 1 : info['text'] = f'LR预测: {model.predict(flattened)[0]}'\n",
    "    elif flag.get() == 2 : info['text'] = f'KNN预测: {model.predict(flattened/255)[0]}'\n",
    "    elif flag.get() == 3 : info['text'] = f'CNN预测: {model.predict(gray)[0]}'\n",
    "\n",
    "model = None\n",
    "selection = [\n",
    "    (\"LR模型\",1),\n",
    "    (\"KNN模型\",2),\n",
    "    (\"CNN模型\",3)\n",
    "]\n",
    "\n",
    "main=tk.Tk()\n",
    "main.title('MNIST手写识别')\n",
    "main.geometry('480x320+0+0')\n",
    "main.resizable(1,1)\n",
    "flag = tk.IntVar()\n",
    "#主体FRAME\n",
    "frame=tk.Frame(main,width='480',height='320')\n",
    "#标题label放在最上面\n",
    "title_label=tk.Label(frame,width='480',height='1',text='MNIST手写识别',font=('Anrial',30),fg='yellow',bg='purple').pack(side='top')\n",
    "#左边canvas画布\n",
    "l_canvas=tk.Canvas(frame,width='240',height='320',bg='black',cursor='circle')\n",
    "l_canvas.bind('<ButtonRelease-1>',info_default)\n",
    "l_canvas.bind('<B1-Motion>',draw_track)\n",
    "l_canvas.pack(side='left')\n",
    "#右边FRAME\n",
    "r_frame=tk.Frame(frame,width='240',height='320',bg='white')\n",
    "r_frame.pack(side='right')\n",
    "for t,n in selection:\n",
    "    tk.Radiobutton(r_frame,width='240',height='1',text=t,value=n,variable=flag,command=selector,font=('Anrial',16,'bold'),relief='ridge',justify='left').pack(side='top')\n",
    "#显示信息的messagebos\n",
    "info=tk.Label(r_frame,width='240',height='6',text='无动作',font=('Anrial',16,'bold'),bg='gray',fg='red')\n",
    "info.pack(side='top')\n",
    "#右下层FRAME\n",
    "rb_frame=tk.Frame(r_frame,width='240',height='60',bg='yellow')\n",
    "#清除所画图形的按键\n",
    "btn_clear=tk.Button(rb_frame,width='6',height='3',font=('Anrial',16,'bold'),fg='white',bg='yellow',text='清除',relief='ridge',command=clear_track).pack(side='left')\n",
    "#执行分析的按键\n",
    "btn_exec=tk.Button(rb_frame,width='6',height='3',font=('Anrial',16,'bold'),fg='white',bg='green',text='分析',relief='raised',command=execution).pack(side='left')\n",
    "#退出的按键\n",
    "btn_save=tk.Button(rb_frame,width='6',height='3',font=('Anrial',16,'bold'),fg='white',bg='red',text='退出',relief='solid',command=main.destroy).pack(side='left')\n",
    "\n",
    "rb_frame.pack(side='bottom')\n",
    "frame.pack()\n",
    "\n",
    "main.overrideredirect(True)\n",
    "main.mainloop()\n",
    "\n",
    "\n",
    "# 转存为.py放置在RaspberryPi中"
   ]
  },
  {
   "cell_type": "markdown",
   "metadata": {},
   "source": [
    "----\n",
    "### 树莓派的配置\n",
    "\n",
    "1. 硬件\n",
    "   - 配置:\n",
    "   > RaspberryPi 4B , 网线 × 1 , 3.5寸LCD屏 × 1 , 8g以上SD卡 × 1\n",
    "\n",
    "2. 准备\n",
    "   - 烧写:\n",
    "     1. [official image RPi4](https://www.raspberrypi.com/software/operating-systems/)下载镜像\n",
    "     2. 使用`win32diskimager`或者树莓派`官网的烧录软件`写入读卡器中的SD卡,点击设置按钮,`填入默认账密和wifi(非常重要)`\n",
    "     \n",
    "     ![imager](pics/2023-02-04-00-56-39.png)\n",
    "\n",
    "     ![setup](pics/2023-02-04-01-36-35.png)\n",
    "\n",
    "     3. 烧录完成后,U盘只显示`bootloader`的小部分文件,添加一个`ssh`空文件\n",
    "     \n",
    "     ![ssh文件](pics/2023-02-04-01-33-25.png)\n",
    "     \n",
    "   - 连接并上传\n",
    "     1. `ssh连接`测试:\n",
    "        \n",
    "      ![ssh连接](pics/2023-02-04-03-46-19.png)\n",
    "     \n",
    "     2. 安装驱动,参考[微雪官网](https://www.waveshare.net/wiki/3.5inch_RPi_LCD_(A))\n",
    "     3. 上传,调试:\n",
    "      只需上传`pickle`包装好的`models\\`文件夹以及GUI程序即可\n",
    "     \n",
    "     ![remote vscode](pics/2023-02-04-04-04-46.png)\n",
    "     \n",
    "     4. 设置开机自启:[树莓派开机自启自定义程序的方法](https://blog.csdn.net/qq_45615475/article/details/119295254)\n",
    "   - 成果:\n",
    "      \n",
    "      ![](pics/2023-02-04-09-20-42.png)\n",
    "      ![](pics/2023-02-04-09-23-15.png)"
   ]
  }
 ],
 "metadata": {
  "kernelspec": {
   "display_name": "Python 3.8.16 ('EDA_AI')",
   "language": "python",
   "name": "python3"
  },
  "language_info": {
   "codemirror_mode": {
    "name": "ipython",
    "version": 3
   },
   "file_extension": ".py",
   "mimetype": "text/x-python",
   "name": "python",
   "nbconvert_exporter": "python",
   "pygments_lexer": "ipython3",
   "version": "3.8.16"
  },
  "orig_nbformat": 4,
  "vscode": {
   "interpreter": {
    "hash": "054a6cfd0eff8f33606821a201cfd169216d817c63d1571d098ff499944369fa"
   }
  }
 },
 "nbformat": 4,
 "nbformat_minor": 2
}
